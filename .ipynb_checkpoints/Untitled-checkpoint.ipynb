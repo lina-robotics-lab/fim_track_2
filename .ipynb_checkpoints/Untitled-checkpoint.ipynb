{
 "cells": [
  {
   "cell_type": "code",
   "execution_count": 55,
   "id": "9c4d4fa0-cf98-47a9-bff7-d69cf26ad149",
   "metadata": {},
   "outputs": [],
   "source": [
    "import numpy as np\n",
    "\n",
    "class Region:\n",
    "    \"\"\"A Region must define a point_project method, which takes in a point and return its projected point.\"\"\"\n",
    "    def __init__(self):\n",
    "        pass\n",
    "    def point_project(self,pt):\n",
    "        print('point_project is not defined')\n",
    "        return None\n",
    "\n",
    "class RegionsIntersection(Region):\n",
    "    \"\"\"The intersection of multiple regions. The projection method is to call all the project_point() methods in sequence.\"\"\"\n",
    "    def __init__(self,regions):\n",
    "        self.regions = regions\n",
    "\n",
    "    def project_point(self,pt):\n",
    "        for rg in self.regions:\n",
    "            pt = rg.project_point(pt)\n",
    "        return pt\n",
    "\n",
    "\n",
    "class Rect2D(Region):\n",
    "    \"\"\"A 2-D Rectangle\"\"\"\n",
    "    def __init__(self, xlims=(0,0), ylims=(0,0)):\n",
    "        super(Rect2D,self).__init__()\n",
    "        self.xmin = np.min(xlims)\n",
    "        self.xmax = np.max(xlims)\n",
    "        self.ymin = np.min(ylims)\n",
    "        self.ymax = np.max(ylims)\n",
    "\n",
    "    def project_point(self,pt):\n",
    "        def constrain(input, low, high):\n",
    "            if input < low:\n",
    "                input = low\n",
    "            elif input > high:\n",
    "                input = high\n",
    "            else:\n",
    "                input = input\n",
    "            return input\n",
    "\n",
    "        pt = np.array(pt).flatten()\n",
    "        assert(len(pt)==2)\n",
    "\n",
    "        return np.array([constrain(pt[0],self.xmin,self.xmax),\\\n",
    "                         constrain(pt[1],self.ymin,self.ymax)])\n",
    "\n",
    "class CircleInterior(Region):\n",
    "    \"\"\"CircleInterior\"\"\"\n",
    "    def __init__(self, origin, radius):\n",
    "        super(CircleInterior, self).__init__()\n",
    "        self.origin = origin\n",
    "        self.radius = radius\n",
    "\n",
    "    def project_point(self,pt):\t\n",
    "        dist=np.linalg.norm(pt-self.origin)\n",
    "\n",
    "        if dist <= self.radius: # If pt is within the interior of the circle, do nothing\n",
    "            proj=pt\n",
    "        else: # If pt goes outside of the circle's interior, project it back to the boundary\n",
    "            proj=((pt-self.origin)/dist * self.radius).T + self.origin\n",
    "        return proj\n",
    "\n",
    "\n",
    "class CircleExterior(Region):\n",
    "    \"\"\"CircleExterior. The only difference is a change of inequality direction in the project point method.\"\"\"\n",
    "    def __init__(self, origin, radius):\n",
    "        super(CircleExterior, self).__init__()\n",
    "        self.origin = np.array(origin)\n",
    "        self.radius = radius\n",
    "\n",
    "    def project_point(self,pt):\t\n",
    "        dist=np.linalg.norm(pt-self.origin,axis = -1)\n",
    "        print(dist,)\n",
    "        if dist >= self.radius: # If pt is outside of the circle, do nothing\n",
    "            proj=pt\n",
    "        elif dist<self.radius and dist!=0: # If pt goes inside of the circle's interior, project it back to the boundary\n",
    "            proj=((pt-self.origin)/dist * self.radius) + self.origin\n",
    "        else: # If pt coincides with the origin, project it to the (1,1,1,...) direction on the boundary.\n",
    "            one =  np.ones(len(self.origin.ravel()))\n",
    "            proj = one/np.linalg.dist(one) * self.radius \n",
    "            print\n",
    "\n",
    "        return proj\n",
    "\n"
   ]
  },
  {
   "cell_type": "code",
   "execution_count": null,
   "id": "c48e34eb-791a-49f1-a444-adcc2ef39a1e",
   "metadata": {},
   "outputs": [],
   "source": []
  },
  {
   "cell_type": "code",
   "execution_count": 56,
   "id": "48e1eb29-d399-4c4c-9425-5726c148bb22",
   "metadata": {},
   "outputs": [],
   "source": [
    "obstacles =[ [(0,0),5]]"
   ]
  },
  {
   "cell_type": "code",
   "execution_count": 57,
   "id": "872443e3-cfe4-48be-b3ab-0b5edebbe2c2",
   "metadata": {},
   "outputs": [],
   "source": [
    "free_space = RegionsIntersection([CircleExterior(origin,radius) for (origin,radius) in obstacles])"
   ]
  },
  {
   "cell_type": "code",
   "execution_count": 58,
   "id": "d2a56580-1de8-4206-a98b-ebd024d1419c",
   "metadata": {},
   "outputs": [
    {
     "name": "stdout",
     "output_type": "stream",
     "text": [
      "[4.24264069 1.41421356 0.        ]\n"
     ]
    },
    {
     "ename": "ValueError",
     "evalue": "The truth value of an array with more than one element is ambiguous. Use a.any() or a.all()",
     "output_type": "error",
     "traceback": [
      "\u001b[0;31m---------------------------------------------------------------------------\u001b[0m",
      "\u001b[0;31mValueError\u001b[0m                                Traceback (most recent call last)",
      "\u001b[0;32m/tmp/ipykernel_123878/1271146629.py\u001b[0m in \u001b[0;36m<module>\u001b[0;34m\u001b[0m\n\u001b[0;32m----> 1\u001b[0;31m \u001b[0mfree_space\u001b[0m\u001b[0;34m.\u001b[0m\u001b[0mproject_point\u001b[0m\u001b[0;34m(\u001b[0m\u001b[0mnp\u001b[0m\u001b[0;34m.\u001b[0m\u001b[0marray\u001b[0m\u001b[0;34m(\u001b[0m\u001b[0;34m[\u001b[0m\u001b[0;34m[\u001b[0m\u001b[0;36m3\u001b[0m\u001b[0;34m,\u001b[0m\u001b[0;36m3\u001b[0m\u001b[0;34m]\u001b[0m\u001b[0;34m,\u001b[0m\u001b[0;34m[\u001b[0m\u001b[0;36m1\u001b[0m\u001b[0;34m,\u001b[0m\u001b[0;36m1\u001b[0m\u001b[0;34m]\u001b[0m\u001b[0;34m,\u001b[0m\u001b[0;34m[\u001b[0m\u001b[0;36m0\u001b[0m\u001b[0;34m,\u001b[0m\u001b[0;36m0\u001b[0m\u001b[0;34m]\u001b[0m\u001b[0;34m]\u001b[0m\u001b[0;34m)\u001b[0m\u001b[0;34m)\u001b[0m\u001b[0;34m\u001b[0m\u001b[0;34m\u001b[0m\u001b[0m\n\u001b[0m",
      "\u001b[0;32m/tmp/ipykernel_123878/4241486989.py\u001b[0m in \u001b[0;36mproject_point\u001b[0;34m(self, pt)\u001b[0m\n\u001b[1;32m     16\u001b[0m     \u001b[0;32mdef\u001b[0m \u001b[0mproject_point\u001b[0m\u001b[0;34m(\u001b[0m\u001b[0mself\u001b[0m\u001b[0;34m,\u001b[0m\u001b[0mpt\u001b[0m\u001b[0;34m)\u001b[0m\u001b[0;34m:\u001b[0m\u001b[0;34m\u001b[0m\u001b[0;34m\u001b[0m\u001b[0m\n\u001b[1;32m     17\u001b[0m         \u001b[0;32mfor\u001b[0m \u001b[0mrg\u001b[0m \u001b[0;32min\u001b[0m \u001b[0mself\u001b[0m\u001b[0;34m.\u001b[0m\u001b[0mregions\u001b[0m\u001b[0;34m:\u001b[0m\u001b[0;34m\u001b[0m\u001b[0;34m\u001b[0m\u001b[0m\n\u001b[0;32m---> 18\u001b[0;31m             \u001b[0mpt\u001b[0m \u001b[0;34m=\u001b[0m \u001b[0mrg\u001b[0m\u001b[0;34m.\u001b[0m\u001b[0mproject_point\u001b[0m\u001b[0;34m(\u001b[0m\u001b[0mpt\u001b[0m\u001b[0;34m)\u001b[0m\u001b[0;34m\u001b[0m\u001b[0;34m\u001b[0m\u001b[0m\n\u001b[0m\u001b[1;32m     19\u001b[0m         \u001b[0;32mreturn\u001b[0m \u001b[0mpt\u001b[0m\u001b[0;34m\u001b[0m\u001b[0;34m\u001b[0m\u001b[0m\n\u001b[1;32m     20\u001b[0m \u001b[0;34m\u001b[0m\u001b[0m\n",
      "\u001b[0;32m/tmp/ipykernel_123878/4241486989.py\u001b[0m in \u001b[0;36mproject_point\u001b[0;34m(self, pt)\u001b[0m\n\u001b[1;32m     72\u001b[0m         \u001b[0mdist\u001b[0m\u001b[0;34m=\u001b[0m\u001b[0mnp\u001b[0m\u001b[0;34m.\u001b[0m\u001b[0mlinalg\u001b[0m\u001b[0;34m.\u001b[0m\u001b[0mnorm\u001b[0m\u001b[0;34m(\u001b[0m\u001b[0mpt\u001b[0m\u001b[0;34m-\u001b[0m\u001b[0mself\u001b[0m\u001b[0;34m.\u001b[0m\u001b[0morigin\u001b[0m\u001b[0;34m,\u001b[0m\u001b[0maxis\u001b[0m \u001b[0;34m=\u001b[0m \u001b[0;34m-\u001b[0m\u001b[0;36m1\u001b[0m\u001b[0;34m)\u001b[0m\u001b[0;34m\u001b[0m\u001b[0;34m\u001b[0m\u001b[0m\n\u001b[1;32m     73\u001b[0m         \u001b[0mprint\u001b[0m\u001b[0;34m(\u001b[0m\u001b[0mdist\u001b[0m\u001b[0;34m,\u001b[0m\u001b[0;34m)\u001b[0m\u001b[0;34m\u001b[0m\u001b[0;34m\u001b[0m\u001b[0m\n\u001b[0;32m---> 74\u001b[0;31m         \u001b[0;32mif\u001b[0m \u001b[0mdist\u001b[0m \u001b[0;34m>=\u001b[0m \u001b[0mself\u001b[0m\u001b[0;34m.\u001b[0m\u001b[0mradius\u001b[0m\u001b[0;34m:\u001b[0m \u001b[0;31m# If pt is outside of the circle, do nothing\u001b[0m\u001b[0;34m\u001b[0m\u001b[0;34m\u001b[0m\u001b[0m\n\u001b[0m\u001b[1;32m     75\u001b[0m             \u001b[0mproj\u001b[0m\u001b[0;34m=\u001b[0m\u001b[0mpt\u001b[0m\u001b[0;34m\u001b[0m\u001b[0;34m\u001b[0m\u001b[0m\n\u001b[1;32m     76\u001b[0m         \u001b[0;32melif\u001b[0m \u001b[0mdist\u001b[0m\u001b[0;34m<\u001b[0m\u001b[0mself\u001b[0m\u001b[0;34m.\u001b[0m\u001b[0mradius\u001b[0m \u001b[0;32mand\u001b[0m \u001b[0mdist\u001b[0m\u001b[0;34m!=\u001b[0m\u001b[0;36m0\u001b[0m\u001b[0;34m:\u001b[0m \u001b[0;31m# If pt goes inside of the circle's interior, project it back to the boundary\u001b[0m\u001b[0;34m\u001b[0m\u001b[0;34m\u001b[0m\u001b[0m\n",
      "\u001b[0;31mValueError\u001b[0m: The truth value of an array with more than one element is ambiguous. Use a.any() or a.all()"
     ]
    }
   ],
   "source": [
    "free_space.project_point(np.array([[3,3],[1,1],[0,0]]))"
   ]
  }
 ],
 "metadata": {
  "kernelspec": {
   "display_name": "Python 3 (ipykernel)",
   "language": "python",
   "name": "python3"
  },
  "language_info": {
   "codemirror_mode": {
    "name": "ipython",
    "version": 3
   },
   "file_extension": ".py",
   "mimetype": "text/x-python",
   "name": "python",
   "nbconvert_exporter": "python",
   "pygments_lexer": "ipython3",
   "version": "3.9.5"
  }
 },
 "nbformat": 4,
 "nbformat_minor": 5
}
